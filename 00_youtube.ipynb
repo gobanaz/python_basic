{
 "cells": [
  {
   "cell_type": "markdown",
   "metadata": {},
   "source": [
    "Drawing a Sahpe(도형그리기)"
   ]
  },
  {
   "cell_type": "code",
   "execution_count": 1,
   "metadata": {},
   "outputs": [
    {
     "name": "stdout",
     "output_type": "stream",
     "text": [
      "   /|\n",
      "  / |\n",
      " /  |\n",
      "/___|\n"
     ]
    }
   ],
   "source": [
    "#작은 삼각형\n",
    "print('   /|')\n",
    "print('  / |')\n",
    "print(' /  |')\n",
    "print('/___|')"
   ]
  },
  {
   "cell_type": "markdown",
   "metadata": {},
   "source": [
    "Variables & Data Types(변수 & 자료형)"
   ]
  },
  {
   "cell_type": "code",
   "execution_count": 33,
   "metadata": {},
   "outputs": [
    {
     "name": "stdout",
     "output_type": "stream",
     "text": [
      "There once was a man named Tom, \n",
      "he was 50 years old.\n",
      "He really liked the name Mike, \n",
      "but didn't like being 50.\n"
     ]
    }
   ],
   "source": [
    "character_name = 'Tom'\n",
    "character_age = 50\n",
    "is_male = False\n",
    "print('There once was a man named ' + character_name + ', ')\n",
    "print('he was ' + str(character_age) + ' years old.')\n",
    "\n",
    "character_name = 'Mike'\n",
    "print('He really liked the name ' + character_name + ', ')\n",
    "print(f\"but didn't like being {character_age}.\")"
   ]
  },
  {
   "cell_type": "markdown",
   "metadata": {},
   "source": [
    "Woring With Strings(문자열 다루기)"
   ]
  },
  {
   "cell_type": "code",
   "execution_count": 30,
   "metadata": {},
   "outputs": [
    {
     "name": "stdout",
     "output_type": "stream",
     "text": [
      "Giraffe\n",
      "Academy\n",
      "Giraffe\"Academy\n",
      "Giraffe Acedemy is cool\n",
      "giraffe acedemy\n",
      "True\n",
      "15\n",
      "G\n",
      "3\n",
      "Elephant Acedemy\n",
      "Giraffe Acedemy\n"
     ]
    }
   ],
   "source": [
    "print('Giraffe\\nAcademy')   #\\n 줄바꿈\n",
    "print(\"Giraffe\\\"Academy\")   #이스케이프문자\n",
    "\n",
    "phrase = \"Giraffe Acedemy\"\n",
    "print(phrase + \" is cool\")\n",
    "print(phrase.lower())\n",
    "print(phrase.upper().isupper())\n",
    "print(len(phrase))\n",
    "\n",
    "phrase = \"Giraffe Acedemy\"\n",
    "print(phrase[0])\n",
    "print(phrase.index('a'))    #3 가장앞의 a 인덱스 반환\n",
    "print(phrase.replace('Giraffe', 'Elephant'))"
   ]
  },
  {
   "cell_type": "markdown",
   "metadata": {},
   "source": [
    "Working wiht Numbers(숫자 다루기)"
   ]
  },
  {
   "cell_type": "code",
   "execution_count": 42,
   "metadata": {},
   "outputs": [
    {
     "name": "stdout",
     "output_type": "stream",
     "text": [
      "-5\n",
      "5\n",
      "16.0\n",
      "6\n",
      "4\n",
      "4\n",
      "3\n",
      "4\n",
      "6.0\n"
     ]
    }
   ],
   "source": [
    "my_num = -5\n",
    "print(my_num)\n",
    "print(abs(my_num))\n",
    "\n",
    "print(pow(4, 2))    #4의 2제곱, 4의 2승\n",
    "print(max(4, 6))\n",
    "print(min(4, 6))\n",
    "print(round(3.7))\n",
    "\n",
    "from math import *\n",
    "print(floor(3.7))   #내림\n",
    "print(ceil(3.2))    #올림\n",
    "print(sqrt(36))     #루트36"
   ]
  },
  {
   "cell_type": "markdown",
   "metadata": {},
   "source": [
    "Mad Libs Game(단어 채우기 게임)"
   ]
  },
  {
   "cell_type": "code",
   "execution_count": 45,
   "metadata": {},
   "outputs": [
    {
     "name": "stdout",
     "output_type": "stream",
     "text": [
      "Roses are red\n",
      "Violets are blue\n",
      "I love you\n",
      "Roses are Magenta\n",
      "Microwaves are blue\n",
      "I love Tom Hanks\n"
     ]
    }
   ],
   "source": [
    "print('Roses are red')\n",
    "print('Violets are blue')\n",
    "print('I love you')\n",
    "\n",
    "color = input('Enter a color: ')\n",
    "plural_noun = input('Enter a plural noun: ')\n",
    "celebrity = input('Enter a celebrity: ')\n",
    "\n",
    "print(f'Roses are {color}')\n",
    "print(f'{plural_noun} are blue')\n",
    "print(f'I love {celebrity}')\n"
   ]
  },
  {
   "cell_type": "markdown",
   "metadata": {},
   "source": [
    "Lists(배열)"
   ]
  },
  {
   "cell_type": "code",
   "execution_count": 57,
   "metadata": {},
   "outputs": [
    {
     "name": "stdout",
     "output_type": "stream",
     "text": [
      "['Kevin', 'Karen', 'Jim']\n",
      "['Karen', 'Jim']\n",
      "['Kevin', 'Karen', 'Jim', 'Oscar', 'Toby', 4, 8, 15, 16, 23, 42]\n",
      "['Kevin', 'Karen', 'Jim', 'Oscar', 'Toby', 'Creed']\n",
      "['Kevin', 'Kelly', 'Karen', 'Jim', 'Oscar', 'Toby']\n",
      "['Kevin', 'Karen', 'Oscar', 'Toby']\n",
      "[]\n",
      "Toby\n",
      "['Kevin', 'Karen', 'Jim', 'Oscar']\n",
      "2\n"
     ]
    }
   ],
   "source": [
    "friends = ['Kevin', 'Karen', 'Jim']\n",
    "print(friends)\n",
    "\n",
    "friends = ['Kevin', 'Karen', 'Jim', 'Oscar', 'Toby']\n",
    "print(friends[1:3])\n",
    "\n",
    "lucky_numbers = [4, 8, 15, 16, 23, 42]\n",
    "friends = ['Kevin', 'Karen', 'Jim', 'Oscar', 'Toby']\n",
    "friends.extend(lucky_numbers)\n",
    "print(friends)\n",
    "\n",
    "friends = ['Kevin', 'Karen', 'Jim', 'Oscar', 'Toby']\n",
    "friends.append('Creed')\n",
    "print(friends)\n",
    "\n",
    "friends = ['Kevin', 'Karen', 'Jim', 'Oscar', 'Toby']\n",
    "friends.insert(1, 'Kelly')\n",
    "print(friends)\n",
    "\n",
    "friends = ['Kevin', 'Karen', 'Jim', 'Oscar', 'Toby']\n",
    "friends.remove('Jim')\n",
    "print(friends)\n",
    "\n",
    "friends = ['Kevin', 'Karen', 'Jim', 'Oscar', 'Toby']\n",
    "friends.clear()\n",
    "print(friends)\n",
    "\n",
    "friends = ['Kevin', 'Karen', 'Jim', 'Oscar', 'Toby']\n",
    "p_f = friends.pop()\n",
    "print(p_f)\n",
    "print(friends)\n",
    "\n",
    "friends = ['Kevin', 'Karen', 'Jim', 'Oscar', 'Toby']\n",
    "print(friends.index('Jim'))\n"
   ]
  },
  {
   "cell_type": "markdown",
   "metadata": {},
   "source": [
    "Building a Guessing Game"
   ]
  },
  {
   "cell_type": "code",
   "execution_count": 62,
   "metadata": {},
   "outputs": [
    {
     "name": "stdout",
     "output_type": "stream",
     "text": [
      "Out of Guesses, YOU LOSE!\n"
     ]
    }
   ],
   "source": [
    "secret_word = 'giraffe'\n",
    "guess = ''\n",
    "guess_count = 0\n",
    "guess_limit = 3\n",
    "out_of_guesses = False\n",
    "\n",
    "while guess != secret_word and not(out_of_guesses):\n",
    "    if guess_count < guess_limit:\n",
    "        guess = input('Enter guess: ')\n",
    "        guess_count += 1\n",
    "    else:\n",
    "        out_of_guesses = True\n",
    "        \n",
    "if out_of_guesses:\n",
    "    print('Out of Guesses, YOU LOSE!')\n",
    "else:\n",
    "    print('You win!')\n",
    "\n"
   ]
  },
  {
   "cell_type": "markdown",
   "metadata": {},
   "source": [
    "For Loops(for 반복문)"
   ]
  },
  {
   "cell_type": "code",
   "execution_count": 63,
   "metadata": {},
   "outputs": [
    {
     "name": "stdout",
     "output_type": "stream",
     "text": [
      "G\n",
      "i\n",
      "r\n",
      "a\n",
      "f\n",
      "f\n",
      "e\n",
      " \n",
      "A\n",
      "c\n",
      "a\n",
      "d\n",
      "e\n",
      "m\n",
      "y\n"
     ]
    }
   ],
   "source": [
    "for letter in 'Giraffe Academy':\n",
    "    print(letter)"
   ]
  },
  {
   "cell_type": "markdown",
   "metadata": {},
   "source": [
    "2D Lists & Nested Loops(배열 속 배열과 반복문 속 반복문)"
   ]
  },
  {
   "cell_type": "code",
   "execution_count": 64,
   "metadata": {},
   "outputs": [
    {
     "name": "stdout",
     "output_type": "stream",
     "text": [
      "1\n",
      "2\n",
      "3\n",
      "4\n",
      "5\n",
      "6\n",
      "7\n",
      "8\n",
      "9\n",
      "0\n"
     ]
    }
   ],
   "source": [
    "number_grid = [\n",
    "    [1,2,3],\n",
    "    [4,5,6],\n",
    "    [7,8,9],\n",
    "    [0]\n",
    "]\n",
    "\n",
    "for row in number_grid:\n",
    "    for col in row:\n",
    "        print(col)"
   ]
  },
  {
   "cell_type": "markdown",
   "metadata": {},
   "source": [
    "Building a Translator(번역기 만들기)"
   ]
  },
  {
   "cell_type": "code",
   "execution_count": 67,
   "metadata": {},
   "outputs": [
    {
     "name": "stdout",
     "output_type": "stream",
     "text": [
      "dgg\n",
      "Tg bg gr ngt tg bg\n",
      "Gn\n"
     ]
    }
   ],
   "source": [
    "def translate(phrase):\n",
    "    translation = ''\n",
    "    for letter in phrase:\n",
    "        #if letter in 'AEIOUaeiou':\n",
    "        if letter.lower() in 'aeiou':\n",
    "            if letter.isupper():\n",
    "                translation = translation + 'G'\n",
    "            else:\n",
    "                translation = translation + 'g'\n",
    "        else:\n",
    "            translation = translation + letter\n",
    "    return translation\n",
    "\n",
    "#print(translate(input('Enter a phrase: ')))\n",
    "print(translate('dog'))\n",
    "print(translate('To be or not to be'))\n",
    "print(translate('On'))\n"
   ]
  },
  {
   "cell_type": "markdown",
   "metadata": {},
   "source": [
    "Try / Except (예외처리)"
   ]
  },
  {
   "cell_type": "code",
   "execution_count": 72,
   "metadata": {},
   "outputs": [
    {
     "name": "stdout",
     "output_type": "stream",
     "text": [
      "division by zero\n"
     ]
    }
   ],
   "source": [
    "try:\n",
    "    value = 10 / 0\n",
    "    number = int(input('Enter a number: ')) #asdf\n",
    "    print(number)\n",
    "except ZeroDivisionError as err:\n",
    "    print(err)\n",
    "except ValueError:\n",
    "    print('Invalid Input')"
   ]
  },
  {
   "cell_type": "markdown",
   "metadata": {},
   "source": [
    "### 파이썬 모듈 목록 (list of python modules)\n",
    "    https://docs.python.org/ko/3/py-modindex.html"
   ]
  },
  {
   "cell_type": "markdown",
   "metadata": {},
   "source": [
    "Classes & Objects"
   ]
  },
  {
   "cell_type": "code",
   "execution_count": 77,
   "metadata": {},
   "outputs": [],
   "source": [
    "#Student.py\n",
    "class Student:\n",
    "    def __init__(self, name, major, gpa, is_on_probation):\n",
    "        self.name = name\n",
    "        self.major = major\n",
    "        self.gpa = gpa\n",
    "        self.is_on_probation = is_on_probation"
   ]
  },
  {
   "cell_type": "code",
   "execution_count": null,
   "metadata": {},
   "outputs": [],
   "source": [
    "#app.py\n",
    "from Student import Student\n",
    "\n",
    "student1 = Student('Jim', 'Business', 3.1, False)\n",
    "student2 = Student('Pam', 'Art', 2.5, False)\n",
    "\n",
    "print(student1.name)    #Jim\n",
    "print(student2.gpa)    #2.5"
   ]
  },
  {
   "cell_type": "markdown",
   "metadata": {},
   "source": [
    "Building Multiple Choise Quiz"
   ]
  },
  {
   "cell_type": "code",
   "execution_count": null,
   "metadata": {},
   "outputs": [],
   "source": [
    "#app.py\n",
    "from Question import Question\n",
    "question_prompts = [\n",
    "    \"What color are Apples?\\n(a) Red/Green\\n(b) Purple\\n(c) Orange\\n\\n\",\n",
    "    \"What color are Bananas?\\n(a) Teal\\n(b) Magenta\\n(c) Yellow\\n\\n\",\n",
    "    \"What color are Strawberries?\\n(a) Yellow\\n(b) Red\\n(c) Blue\\n\\n\"\n",
    "]\n",
    "\n",
    "questions = [\n",
    "    Question(question_prompts[0], 'a'),\n",
    "    Question(question_prompts[1], 'c'),\n",
    "    Question(question_prompts[2], 'b'),\n",
    "]\n",
    "\n",
    "def run_test(questions):\n",
    "    score = 0\n",
    "    for question in questions:\n",
    "        answer = input(question.prompt)\n",
    "        if answer == question.answer:\n",
    "            score += 1\n",
    "    print(f'You got {score} / {len(questions)} correct')\n",
    "    \n",
    "run_test(questions)"
   ]
  },
  {
   "cell_type": "code",
   "execution_count": null,
   "metadata": {},
   "outputs": [],
   "source": [
    "#Question.py\n",
    "class Question:\n",
    "    def __init__(self, prompt, answer):\n",
    "        self.prompt = prompt\n",
    "        self.answer = answer"
   ]
  },
  {
   "cell_type": "markdown",
   "metadata": {},
   "source": [
    "Object Functions"
   ]
  },
  {
   "cell_type": "code",
   "execution_count": null,
   "metadata": {},
   "outputs": [],
   "source": [
    "#Student.py\n",
    "class Student:\n",
    "    def __init__(self, name, major, gpa):\n",
    "        self.name = name\n",
    "        self.major = major\n",
    "        self.gpa = gpa\n",
    "        \n",
    "    def on_honor_roll(self):\n",
    "        if self.gpa >= 3.5:\n",
    "            return True\n",
    "        else:\n",
    "            return False"
   ]
  },
  {
   "cell_type": "code",
   "execution_count": null,
   "metadata": {},
   "outputs": [],
   "source": [
    "#app.py\n",
    "from Student import Student\n",
    "\n",
    "student1 = Student('Oscar', 'Accounting', 3.1)\n",
    "student2 = Student('Phyllis', 'Business', 3.8)\n",
    "\n",
    "print(student1.on_honor_roll()) #False\n",
    "print(student2.on_honor_roll()) #True"
   ]
  },
  {
   "cell_type": "markdown",
   "metadata": {},
   "source": [
    "Inheritance(상속)"
   ]
  },
  {
   "cell_type": "code",
   "execution_count": null,
   "metadata": {},
   "outputs": [],
   "source": [
    "#app.py\n",
    "from Chef import Chef\n",
    "from KoreanChef import KoreanChef\n",
    "\n",
    "myChef = Chef()\n",
    "myChef.make_chicken()\n",
    "myChef.make_special_dish()\n",
    "\n",
    "myKoreanChef = KoreanChef()\n",
    "myKoreanChef.make_special_dish()\n",
    "myKoreanChef.make_fried_rice()"
   ]
  },
  {
   "cell_type": "code",
   "execution_count": null,
   "metadata": {},
   "outputs": [],
   "source": [
    "#Chef.py\n",
    "class Chef:\n",
    "    def make_chicken(self):\n",
    "        print('The chef makes a chicken')\n",
    "    \n",
    "    def make_salad(self):\n",
    "        print('The chef makes a salad')\n",
    "    \n",
    "    def make_special_dish(self):\n",
    "        print('The chef makes bbq ribs')"
   ]
  },
  {
   "cell_type": "code",
   "execution_count": null,
   "metadata": {},
   "outputs": [],
   "source": [
    "#ChineseChef.py\n",
    "from Chef import Chef\n",
    "\n",
    "class KoreanChef(Chef):\n",
    "    #아래 3개 함수는 상속으로 해결가능, special_dish만 오버라이딩\n",
    "    ''' def make_chicken(self):\n",
    "        print('The chef makes a chicken')\n",
    "\n",
    "    def make_salad(self):\n",
    "        print('The chef makes a salad')'''\n",
    "    \n",
    "    def make_special_dish(self):\n",
    "        print('The chef makes bulgogi') #오버라이딩\n",
    "        \n",
    "    def make_fried_rice(self):\n",
    "        print('The chef makes fried rice')"
   ]
  }
 ],
 "metadata": {
  "kernelspec": {
   "display_name": "Python 3.9.7 ('base')",
   "language": "python",
   "name": "python3"
  },
  "language_info": {
   "codemirror_mode": {
    "name": "ipython",
    "version": 3
   },
   "file_extension": ".py",
   "mimetype": "text/x-python",
   "name": "python",
   "nbconvert_exporter": "python",
   "pygments_lexer": "ipython3",
   "version": "3.9.7"
  },
  "orig_nbformat": 4,
  "vscode": {
   "interpreter": {
    "hash": "800fc19d2b578b3cea7f95541b40e86ff3796b71a0567e3a83f75cf2f90a080c"
   }
  }
 },
 "nbformat": 4,
 "nbformat_minor": 2
}
