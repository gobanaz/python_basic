{
 "cells": [
  {
   "cell_type": "code",
   "execution_count": 3,
   "metadata": {},
   "outputs": [
    {
     "name": "stdout",
     "output_type": "stream",
     "text": [
      "2022-07-18 09:29:22.963582\n",
      "2022-07-18 19:29:22.963582\n",
      "2022-07-18 08:59:22.963582\n"
     ]
    }
   ],
   "source": [
    "#datetime 시간연산\n",
    "import datetime\n",
    "now = datetime.datetime.now()\n",
    "print(now)  #현재시간\n",
    "print(now + datetime.timedelta(hours = 10)) #열시간뒤\n",
    "print(now - datetime.timedelta(minutes = 30))   #30분 전"
   ]
  },
  {
   "cell_type": "code",
   "execution_count": 5,
   "metadata": {},
   "outputs": [
    {
     "name": "stdout",
     "output_type": "stream",
     "text": [
      "<Response [200]>\n"
     ]
    }
   ],
   "source": [
    "#requests 모듈\n",
    "    #웹 스크래핑(web-scrapping) : 웹페이지 파이썬 코드를 가져오는 행위\n",
    "        #ex) https://api.bithumb.com/public/ticker/BTC\n",
    "        \n",
    "import requests\n",
    "resp = requests.get('https://api.bithumb.com/public/ticker/BTC')\n",
    "print(resp)\n",
    "\n",
    "#200은 정상적으로 값을 가져왔다는 말"
   ]
  },
  {
   "cell_type": "code",
   "execution_count": 6,
   "metadata": {},
   "outputs": [
    {
     "name": "stdout",
     "output_type": "stream",
     "text": [
      "b'{\"status\":\"0000\",\"data\":{\"opening_price\":\"27954000\",\"closing_price\":\"27580000\",\"min_price\":\"27425000\",\"max_price\":\"28094000\",\"units_traded\":\"1272.65301992\",\"acc_trade_value\":\"35276782294.5945\",\"prev_closing_price\":\"27954000\",\"units_traded_24H\":\"2965.98983507\",\"acc_trade_value_24H\":\"82835806974.3517\",\"fluctate_24H\":\"-308000\",\"fluctate_rate_24H\":\"-1.10\",\"date\":\"1658104373035\"}}'\n"
     ]
    }
   ],
   "source": [
    "print(resp.content)"
   ]
  },
  {
   "cell_type": "code",
   "execution_count": 7,
   "metadata": {},
   "outputs": [
    {
     "name": "stdout",
     "output_type": "stream",
     "text": [
      "<class 'int'>\n",
      "2\n"
     ]
    }
   ],
   "source": [
    "a = 3\n",
    "print(type(a))\n",
    "print(a.bit_length())   # a의 요소(3)에 대한 비트 길이(2)를 출력, 즉 2가 출력됨"
   ]
  },
  {
   "cell_type": "code",
   "execution_count": 8,
   "metadata": {},
   "outputs": [
    {
     "name": "stdout",
     "output_type": "stream",
     "text": [
      "<class 'str'>\n",
      "PYTHON\n"
     ]
    }
   ],
   "source": [
    "#클래스는 데이터와 데이터를 처리하는 함수로 구성\n",
    "b = 'python'\n",
    "print(type(b))\n",
    "print(b.upper())"
   ]
  },
  {
   "cell_type": "code",
   "execution_count": 13,
   "metadata": {},
   "outputs": [
    {
     "name": "stdout",
     "output_type": "stream",
     "text": [
      "3182172571968\n",
      "3182172572784\n",
      "초코팥소\n",
      "딸기팥소\n"
     ]
    }
   ],
   "source": [
    "###붕어빵에 팥소 넣기 : self의 이해\n",
    "class 붕어빵틀:\n",
    "    def 팥소넣기(self, 팥소):\n",
    "        self.팥소 = 팥소\n",
    "\n",
    "붕어빵1 = 붕어빵틀()\n",
    "붕어빵2 = 붕어빵틀()\n",
    "print(id(붕어빵1))\n",
    "print(id(붕어빵2))\n",
    "\n",
    "붕어빵틀.팥소넣기(붕어빵1, '초코팥소')    #self = 붕어빵1, 팥소 = 초코팥소\n",
    "붕어빵틀.팥소넣기(붕어빵2, '딸기팥소')    #self = 붕어빵2, 팥소 = 딸기팥소\n",
    "\n",
    "#아래와 동일한 코드\n",
    "    #인터프리터가 아래의 코드를 위처럼 변환해주면서 셀프자리에 .앞의 객체를 self자리로 전달해주는것\n",
    "붕어빵1.팥소넣기('초코팥소')\n",
    "붕어빵2.팥소넣기('딸기팥소')\n",
    "\n",
    "print(붕어빵1.팥소)\n",
    "print(붕어빵2.팥소)\n",
    "\n",
    "#def 팥소넣기(self, 팥소): 에서 인자로 들어간 팥소(맨 오른쪽 팥소를 의미)가\n",
    "    #self.팥소 = 팥소 의 우측 팥소로 들어감\n",
    "        #붕어빵1.팥소넣기('초코팥소') > 붕어빵1.팥소 = '초코팥소'\n"
   ]
  },
  {
   "cell_type": "code",
   "execution_count": null,
   "metadata": {},
   "outputs": [],
   "source": []
  }
 ],
 "metadata": {
  "kernelspec": {
   "display_name": "Python 3.9.7 ('base')",
   "language": "python",
   "name": "python3"
  },
  "language_info": {
   "codemirror_mode": {
    "name": "ipython",
    "version": 3
   },
   "file_extension": ".py",
   "mimetype": "text/x-python",
   "name": "python",
   "nbconvert_exporter": "python",
   "pygments_lexer": "ipython3",
   "version": "3.9.7"
  },
  "orig_nbformat": 4,
  "vscode": {
   "interpreter": {
    "hash": "800fc19d2b578b3cea7f95541b40e86ff3796b71a0567e3a83f75cf2f90a080c"
   }
  }
 },
 "nbformat": 4,
 "nbformat_minor": 2
}
